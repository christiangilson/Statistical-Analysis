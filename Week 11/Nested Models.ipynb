{
 "cells": [
  {
   "cell_type": "markdown",
   "metadata": {},
   "source": [
    "# L10: Nested Models\n",
    "\n",
    "## 2 Examples in the lecture notes\n",
    "\n",
    "### Example 1) Quality control raw materials"
   ]
  },
  {
   "cell_type": "code",
   "execution_count": 1,
   "metadata": {},
   "outputs": [],
   "source": [
    "purity <- c(1,-1,0,-2,-3,-4,-2,0,1,1,4,0,\n",
    "            1,-2,-3,0,4,2,-1,0,-2,0,3,2,\n",
    "            2,4,0,-2,0,2,1,-1,2,3,2,1)"
   ]
  },
  {
   "cell_type": "code",
   "execution_count": 2,
   "metadata": {},
   "outputs": [],
   "source": [
    "supplier <- factor(c(rep(1:3, rep(12,3))))"
   ]
  },
  {
   "cell_type": "code",
   "execution_count": 3,
   "metadata": {},
   "outputs": [],
   "source": [
    "batch <- factor(c(rep(rep(1:4, rep(3,4)),3)))"
   ]
  },
  {
   "cell_type": "code",
   "execution_count": 4,
   "metadata": {},
   "outputs": [],
   "source": [
    "qc <- data.frame(purity, supplier, batch)"
   ]
  },
  {
   "cell_type": "code",
   "execution_count": 5,
   "metadata": {},
   "outputs": [],
   "source": [
    "rm(purity, supplier, batch)\n",
    "attach(qc)"
   ]
  },
  {
   "cell_type": "markdown",
   "metadata": {},
   "source": [
    "## Remember, the ANOVA R output for a nested design is calibrated for A & B both being fixed.\n",
    "\n",
    "If:\n",
    "\n",
    "1. A is fixed and B is random;\n",
    "\n",
    "2. A and B are both random,\n",
    "\n",
    "then you have to generate your F statistic slightly differently.\n",
    "\n",
    "In this case, A represents the supplier. **A is fixed.** In our example the number of factor A treatments, $a=3$ (three suppliers).\n",
    "\n",
    "**B represents the batch - let's treat this as random.** In our example, the number of factor B treatment levels within each Factor A, $b=4$ (four batches per supplier).\n",
    "\n",
    "---\n",
    "\n",
    "### Hypotheses and assumptions\n",
    "\n",
    "Since A is treated  as being fixed and B as random, here are our assumptions:\n",
    "\n",
    "> $\\sum^{a}_{i=1} \\tau_{i} = 0$, for $i=1,2,3$\n",
    "\n",
    "> $\\beta_{(i)j} \\sim \\text{NID}(0, \\sigma^{2}_{B})$\n",
    "\n",
    "Therefore our two hypothesis, that there are no differences between the treatments means, and therefore that the treatment effects are zero:\n",
    "\n",
    "> $H_{0A}: \\tau_{1} = \\tau_{2} = \\tau_{3} = 0$,\n",
    "\n",
    "where the alternative hypothesis $H_{1A}$ is that at least one of the treatment effects is non-zero.\n",
    "\n",
    "> $H_{0B}: \\sigma^{2}_{B} = 0$,\n",
    "\n",
    "where the alternative hypothesis $H_{1B}$ is that the variance for the $\\beta_{(i)j}$ random variable is non-zero, i.e. that there is indeed some variation in between Factor B levels within each Factor A level.\n",
    "\n",
    "Because of the way the expectations for the mean squares works, the F-test for factor A is:\n",
    "\n",
    "> $F_{A} = \\dfrac{MS_{A}}{MS_{(A)B}}$,\n",
    "\n",
    "## Degrees of Freedom:\n",
    "\n",
    "* A has $(a-1) = 3-1 = 2$ degrees of freedom\n",
    "\n",
    "* (A)B has $a(b-1) = 3(4-1) = 9$ degrees of freedom\n",
    "\n",
    "* Therefore our hypothesis test for A, where the null hypothesis is that there are no differences in treatment effects between Factor A levels (i.e. between suppliers), can be rejected at the  $100\\alpha$% significance level if:\n",
    "\n",
    "> $F_{A} > F_{2,9,\\alpha}$\n",
    "\n",
    "**NOT** $F_{A} = \\dfrac{MS_{A}}{MS_{R}}$ **as is usually calculated in a two-way ANOVA  in R.**\n",
    "\n",
    "---\n",
    "\n",
    "# IMPORTANT\n",
    "\n",
    "NESTED FACTORS ARE ENTERED INTO R VIA `A/B` SYNTAX\n",
    "\n",
    "---"
   ]
  },
  {
   "cell_type": "code",
   "execution_count": 13,
   "metadata": {},
   "outputs": [
    {
     "data": {
      "text/plain": [
       "               Df Sum Sq Mean Sq F value Pr(>F)  \n",
       "supplier        2  15.06   7.528   2.853 0.0774 .\n",
       "supplier:batch  9  69.92   7.769   2.944 0.0167 *\n",
       "Residuals      24  63.33   2.639                 \n",
       "---\n",
       "Signif. codes:  0 ‘***’ 0.001 ‘**’ 0.01 ‘*’ 0.05 ‘.’ 0.1 ‘ ’ 1"
      ]
     },
     "metadata": {},
     "output_type": "display_data"
    }
   ],
   "source": [
    "## AHHH NICE TRICK WITH R ANOVA\n",
    "qc.aov <- aov(purity ~ supplier/batch)\n",
    "\n",
    "summary(qc.aov)"
   ]
  },
  {
   "cell_type": "code",
   "execution_count": 32,
   "metadata": {},
   "outputs": [],
   "source": [
    "MS.A <- 7.528\n",
    "MS.A.B <- 7.769\n",
    "F.A <- MS.A / MS.A.B"
   ]
  },
  {
   "cell_type": "code",
   "execution_count": 15,
   "metadata": {},
   "outputs": [
    {
     "data": {
      "text/html": [
       "0.968979276612177"
      ],
      "text/latex": [
       "0.968979276612177"
      ],
      "text/markdown": [
       "0.968979276612177"
      ],
      "text/plain": [
       "[1] 0.9689793"
      ]
     },
     "metadata": {},
     "output_type": "display_data"
    }
   ],
   "source": [
    "F.A"
   ]
  },
  {
   "cell_type": "code",
   "execution_count": 16,
   "metadata": {},
   "outputs": [
    {
     "data": {
      "text/html": [
       "0.584206149199484"
      ],
      "text/latex": [
       "0.584206149199484"
      ],
      "text/markdown": [
       "0.584206149199484"
      ],
      "text/plain": [
       "[1] 0.5842061"
      ]
     },
     "metadata": {},
     "output_type": "display_data"
    }
   ],
   "source": [
    "pf(F.A,2,9)"
   ]
  },
  {
   "cell_type": "markdown",
   "metadata": {},
   "source": [
    "**Therefore the p-value of the supplier differences hypothesis test is actually far less significant than the default R input.** What looked like it was nearly in the 5% significance level is actually no where near.\n",
    "\n",
    "We do not have sufficient evidence to reject the null hypothesis, and therefore accept that there are no significant differences between suppliers.\n",
    "\n",
    "Looking at the p-value associated  with $F_{B}$ however shows there to be significant variation between batch levels within a supplier group. We reject $H_{0B}$ at the 5% level of significance, accepting the alternative hypothesis that there's at least one batch within a supplier group that has a non-zero treatment effect.\n",
    "\n",
    "**We can estimate the variance of the $\\beta_{(i)j}$ random variable via:**\n",
    "\n",
    "> $\\hat{\\sigma}^{2}_{B} = \\dfrac{MS_{(A)B} - MS_{R}}{n}$"
   ]
  },
  {
   "cell_type": "code",
   "execution_count": 18,
   "metadata": {},
   "outputs": [
    {
     "data": {
      "text/html": [
       "1.71"
      ],
      "text/latex": [
       "1.71"
      ],
      "text/markdown": [
       "1.71"
      ],
      "text/plain": [
       "[1] 1.71"
      ]
     },
     "metadata": {},
     "output_type": "display_data"
    }
   ],
   "source": [
    "var.B <- (7.769 - 2.639) / 3\n",
    "\n",
    "var.B"
   ]
  },
  {
   "cell_type": "code",
   "execution_count": 27,
   "metadata": {},
   "outputs": [
    {
     "data": {
      "text/plain": [
       "Tables of means\n",
       "Grand mean\n",
       "          \n",
       "0.3611111 \n",
       "\n",
       " supplier \n",
       "supplier\n",
       "      1       2       3 \n",
       "-0.4167  0.3333  1.1667 \n",
       "\n",
       " supplier:batch \n",
       "        batch\n",
       "supplier 1       2       3       4      \n",
       "       1  0.0000 -3.0000 -0.3333  1.6667\n",
       "       2 -1.3333  2.0000 -1.0000  1.6667\n",
       "       3  2.0000  0.0000  0.6667  2.0000"
      ]
     },
     "metadata": {},
     "output_type": "display_data"
    }
   ],
   "source": [
    "model.tables(qc.aov, type='means')"
   ]
  },
  {
   "cell_type": "markdown",
   "metadata": {},
   "source": [
    "### Parameter estimates:\n",
    "\n",
    "Recall:\n",
    "\n",
    "> $\\hat{\\tau}_{i} = \\bar{y}_{i..} - \\bar{y}_{i..}$"
   ]
  },
  {
   "cell_type": "code",
   "execution_count": 30,
   "metadata": {},
   "outputs": [],
   "source": [
    "y.bar.1.. <- -0.4167\n",
    "y.bar.2.. <- 0.3333\n",
    "y.bar.3.. <- 1.1667\n",
    "\n",
    "y.bar... <- 0.3611111"
   ]
  },
  {
   "cell_type": "code",
   "execution_count": 31,
   "metadata": {},
   "outputs": [
    {
     "data": {
      "text/html": [
       "<ol class=list-inline>\n",
       "\t<li>-0.7778111</li>\n",
       "\t<li>-0.0278111</li>\n",
       "\t<li>0.8055889</li>\n",
       "</ol>\n"
      ],
      "text/latex": [
       "\\begin{enumerate*}\n",
       "\\item -0.7778111\n",
       "\\item -0.0278111\n",
       "\\item 0.8055889\n",
       "\\end{enumerate*}\n"
      ],
      "text/markdown": [
       "1. -0.7778111\n",
       "2. -0.0278111\n",
       "3. 0.8055889\n",
       "\n",
       "\n"
      ],
      "text/plain": [
       "[1] -0.7778111 -0.0278111  0.8055889"
      ]
     },
     "metadata": {},
     "output_type": "display_data"
    }
   ],
   "source": [
    "tau.hat <- c(y.bar.1.., y.bar.2.., y.bar.3..) - y.bar...\n",
    "tau.hat"
   ]
  },
  {
   "cell_type": "code",
   "execution_count": 10,
   "metadata": {},
   "outputs": [
    {
     "data": {
      "text/plain": [
       "Tables of effects\n",
       "\n",
       " supplier \n",
       "supplier\n",
       "      1       2       3 \n",
       "-0.7778 -0.0278  0.8056 \n",
       "\n",
       " batch \n",
       "batch\n",
       "      1       2       3       4 \n",
       "-0.1389 -0.6944 -0.5833  1.4167 "
      ]
     },
     "metadata": {},
     "output_type": "display_data"
    }
   ],
   "source": [
    "model.tables(qc.aov, type='effects')"
   ]
  },
  {
   "cell_type": "markdown",
   "metadata": {},
   "source": [
    "&nbsp;\n",
    "\n",
    "&nbsp;\n",
    "\n",
    "---\n",
    "\n",
    "## Example 2: Effect of daylight on growth of plants\n",
    "\n",
    "Experiment to measure the effect that exposure to daylight has on the growth of plants\n",
    "\n",
    "* 6 different conditions corresponding to 3 different exposures of sunlight (8, 12, 16 hours), at two glasshouse locations (low and high nighttime temperatures) -> these is a fixed factor.\n",
    "\n",
    "* 3 randomly assigned pots per condition -> this is a random condition.\n",
    "\n",
    "* 4 plants per pot per condition.\n",
    "\n",
    "> CG NOTE: if you hear language like treatment B **PER** treatment A, then you should consider this nesting\n",
    "\n",
    "> Also look out in these scenarios for which are the fixed and which are the random experiemental factors\n",
    "\n",
    "### Factors\n",
    "\n",
    "* **A**: 6 fixed conditions, $\\sum^{6}_{i=1}\\tau_{i} = 0$, $i = 1,2,3,4,5,6$. $a=6$\n",
    "* **B**: 3 random pots within each condition, $\\beta_{(i)j} \\sim \\text{NID}(0,\\sigma^{2}_{B})$. $b=3$\n",
    "\n",
    "###  Characterisation of the experimental design\n",
    "\n",
    "* We have a nested design;\n",
    "* There are $abn = 6 \\times 3 \\times 4 = 72$ observations in total\n",
    "* There should be equal numbers of $n$ replicates in each $j$th level of factor B, within each $i$th level of factor A."
   ]
  },
  {
   "cell_type": "code",
   "execution_count": 53,
   "metadata": {},
   "outputs": [],
   "source": [
    "growth <- c(35, 40, 30, 45, 25, 45, 55, 50, 30,\n",
    "            30, 25, 30, 50, 55, 40, 35, 35, 35, 30,\n",
    "            40, 45, 40, 40, 50, 50, 45, 50, 45, 55,\n",
    "            60, 50, 50, 55, 45, 65, 55, 85, 60, 90,\n",
    "            85, 65, 70, 80, 65, 70, 70, 70, 70, 60,\n",
    "            55, 35, 70, 60, 85, 45, 75, 65, 65, 85, 75,\n",
    "            70, 90, 85, 85, 60, 70, 70, 70, 110, 70, 90, 80)/10"
   ]
  },
  {
   "cell_type": "markdown",
   "metadata": {},
   "source": [
    "## Coding up the nested factors\n",
    "\n",
    "* We have 72 data points where the data has been entered in column-wise\n",
    "\n",
    "* Therefore we want to make our 6 condition factors first, where there will be 12 observations per condition (3 pots x 4 plants) per condition\n",
    "\n",
    "* Then we want to code our nested pots levels. We have 4 plants in each pot. So we want 4 lots of pot 1, then 4 lots of pot 2, then 4 lots of pot 3, per condition, and then repeat that 6 times for all conditions."
   ]
  },
  {
   "cell_type": "code",
   "execution_count": 54,
   "metadata": {},
   "outputs": [],
   "source": [
    "conditions <- factor(c(rep(1:6, rep(12,6))))"
   ]
  },
  {
   "cell_type": "code",
   "execution_count": 55,
   "metadata": {},
   "outputs": [],
   "source": [
    "pots <- factor(c( rep( rep(1:3, rep(4,3)),6) ))"
   ]
  },
  {
   "cell_type": "code",
   "execution_count": 56,
   "metadata": {},
   "outputs": [],
   "source": [
    "plants <- data.frame(growth, conditions, pots)"
   ]
  },
  {
   "cell_type": "code",
   "execution_count": 57,
   "metadata": {},
   "outputs": [],
   "source": [
    "rm(growth, conditions, pots)\n",
    "attach(plants)"
   ]
  },
  {
   "cell_type": "markdown",
   "metadata": {},
   "source": [
    "## Running the nested ANOVA"
   ]
  },
  {
   "cell_type": "code",
   "execution_count": 59,
   "metadata": {},
   "outputs": [
    {
     "data": {
      "text/plain": [
       "                Df Sum Sq Mean Sq F value Pr(>F)    \n",
       "conditions       5 179.64   35.93  38.466 <2e-16 ***\n",
       "conditions:pots 12  25.83    2.15   2.305 0.0186 *  \n",
       "Residuals       54  50.44    0.93                   \n",
       "---\n",
       "Signif. codes:  0 ‘***’ 0.001 ‘**’ 0.01 ‘*’ 0.05 ‘.’ 0.1 ‘ ’ 1"
      ]
     },
     "metadata": {},
     "output_type": "display_data"
    }
   ],
   "source": [
    "plants.aov <- aov(growth ~ conditions/pots)\n",
    "\n",
    "summary(plants.aov)"
   ]
  },
  {
   "cell_type": "markdown",
   "metadata": {},
   "source": [
    "## We're running two hypothesis tests here:\n",
    "\n",
    "1) $H_{0A}: \\tau_{1} = \\tau_{2} = \\tau_{3} = \\tau_{4} = \\tau_{5} = \\tau_{6} = 0$,\n",
    "\n",
    "where the alternative hypothesis, $H_{1A}$ is that at least one of the treatment effects for factor A: conditions is non-zero.\n",
    "\n",
    "2) $H_{0B}: \\sigma^{2}_{B} = 0$,\n",
    "\n",
    "where the alternative hypothesis, $H_{1B}$ is that the variance of random variable representing treatment effect differences between factor B levels (i.e. between pots) **within** factor A (i.e. within each condition) is greater than 0. The intuition of this is that this non-zero variance  represents significant differences between the factor B levels within factor A.\n",
    "\n",
    "## F-tests\n",
    "\n",
    "1) To test $H_{0A}$, we construct the following F-statistic: $F_{A} = \\dfrac{MS_{A}}{MS_{(A)B}}$, which under $H_{0A}$ follows the $F_{a-1,a(b-1)}$ distribution. We can reject the $H_{0A}$ at the $100\\alpha$% level of significance if $F_{A} > F_{a-1,a(b-1),\\alpha}$. Note this is not the F-value provided in R, as R's default setting is for factors A and B to both be fixed.\n",
    "\n",
    "2) To test $H_{0B}$, we construct the following F-statistic: $F_{B} = \\dfrac{MA_{(A)B}}{MS_{R}}$, which under $H_{0B}$ follows the $F_{a(b-1),ab(n-1)}$ distribution. We can reject the $H_{0B}$ at the $100\\alpha$% level of significance if $F_{B} > F_{a(b-1),ab(n-1),\\alpha}$. Note this **is** the value provided in R, as this is the common way of testing a treatment effect, by comparing the mean square  of the treatment with the mean square of the residuals,  representing the pooled estimate of the error variance."
   ]
  },
  {
   "cell_type": "code",
   "execution_count": 64,
   "metadata": {},
   "outputs": [
    {
     "data": {
      "text/html": [
       "16.7116279069767"
      ],
      "text/latex": [
       "16.7116279069767"
      ],
      "text/markdown": [
       "16.7116279069767"
      ],
      "text/plain": [
       "[1] 16.71163"
      ]
     },
     "metadata": {},
     "output_type": "display_data"
    }
   ],
   "source": [
    "MS.A <- 35.93\n",
    "MS.A.B <- 2.15\n",
    "F.A <- MS.A / MS.A.B\n",
    "F.A"
   ]
  },
  {
   "cell_type": "code",
   "execution_count": 63,
   "metadata": {},
   "outputs": [
    {
     "data": {
      "text/html": [
       "4.84805255930161e-05"
      ],
      "text/latex": [
       "4.84805255930161e-05"
      ],
      "text/markdown": [
       "4.84805255930161e-05"
      ],
      "text/plain": [
       "[1] 4.848053e-05"
      ]
     },
     "metadata": {},
     "output_type": "display_data"
    }
   ],
   "source": [
    "p <- pf(F.A, 5, 12, lower.tail=F)\n",
    "p"
   ]
  },
  {
   "cell_type": "markdown",
   "metadata": {},
   "source": [
    "## Summary of ANOVA\n",
    "\n",
    "* We can reject $H_{0A}$ at the 0.1% level of significance, and therefore accept the alternative hypothesis that at least one of the six conditions has a treatement effect that is non-zero.\n",
    "\n",
    "* We can also reject $H_{0B}$ at the 5% level of significance, and therefore accept the alternative hypothesis that at least one of the pots within the conditions **shows variablity**."
   ]
  }
 ],
 "metadata": {
  "kernelspec": {
   "display_name": "R",
   "language": "R",
   "name": "ir"
  },
  "language_info": {
   "codemirror_mode": "r",
   "file_extension": ".r",
   "mimetype": "text/x-r-source",
   "name": "R",
   "pygments_lexer": "r",
   "version": "3.6.1"
  }
 },
 "nbformat": 4,
 "nbformat_minor": 2
}
