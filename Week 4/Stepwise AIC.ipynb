{
 "cells": [
  {
   "cell_type": "code",
   "execution_count": 22,
   "metadata": {},
   "outputs": [],
   "source": [
    "library(MASS)"
   ]
  },
  {
   "cell_type": "code",
   "execution_count": 2,
   "metadata": {},
   "outputs": [],
   "source": [
    "df <- read.table('oil.txt', col.names = c('spirit','gravity','pressure','distil','endpoint'))"
   ]
  },
  {
   "cell_type": "markdown",
   "metadata": {},
   "source": [
    "## Fit a model with the three best explanatory variables"
   ]
  },
  {
   "cell_type": "code",
   "execution_count": 4,
   "metadata": {},
   "outputs": [
    {
     "data": {
      "text/plain": [
       "\n",
       "Call:\n",
       "lm(formula = spirit ~ gravity + distil + endpoint, data = df)\n",
       "\n",
       "Residuals:\n",
       "    Min      1Q  Median      3Q     Max \n",
       "-3.5303 -1.3606 -0.2681  1.3911  4.7658 \n",
       "\n",
       "Coefficients:\n",
       "             Estimate Std. Error t value Pr(>|t|)    \n",
       "(Intercept)  4.032034   7.223341   0.558   0.5811    \n",
       "gravity      0.221727   0.102061   2.173   0.0384 *  \n",
       "distil      -0.186571   0.015922 -11.718 2.61e-12 ***\n",
       "endpoint     0.156527   0.006462  24.224  < 2e-16 ***\n",
       "---\n",
       "Signif. codes:  0 ‘***’ 0.001 ‘**’ 0.01 ‘*’ 0.05 ‘.’ 0.1 ‘ ’ 1\n",
       "\n",
       "Residual standard error: 2.283 on 28 degrees of freedom\n",
       "Multiple R-squared:  0.959,\tAdjusted R-squared:  0.9546 \n",
       "F-statistic: 218.5 on 3 and 28 DF,  p-value: < 2.2e-16\n"
      ]
     },
     "metadata": {},
     "output_type": "display_data"
    }
   ],
   "source": [
    "lm.3 <- lm(spirit ~ gravity + distil + endpoint, data=df)\n",
    "\n",
    "summary(lm.3)"
   ]
  },
  {
   "cell_type": "markdown",
   "metadata": {},
   "source": [
    "## Using AIC (Akaike Information Criterion) to perform systematic, stepwise model fitting, starting with a base model with $p=1$\n",
    "\n",
    "> A statistic that provides a $SS_{R}$ Vs $p$ trade off\n",
    "\n",
    "> $AIC = n \\ln \\dfrac{SS_{R}}{n} + 2p + \\text{constant}$"
   ]
  },
  {
   "cell_type": "code",
   "execution_count": 17,
   "metadata": {},
   "outputs": [],
   "source": [
    "# essentially just fitting beta_zero paramater estimate, which is the sample mean of spirit\n",
    "lm.base <- lm(spirit ~ 1, data=df)"
   ]
  },
  {
   "cell_type": "code",
   "execution_count": 20,
   "metadata": {},
   "outputs": [
    {
     "data": {
      "text/html": [
       "19.659375"
      ],
      "text/latex": [
       "19.659375"
      ],
      "text/markdown": [
       "19.659375"
      ],
      "text/plain": [
       "[1] 19.65938"
      ]
     },
     "metadata": {},
     "output_type": "display_data"
    }
   ],
   "source": [
    "mean(df[,'spirit'])"
   ]
  },
  {
   "cell_type": "code",
   "execution_count": 21,
   "metadata": {},
   "outputs": [
    {
     "data": {
      "text/plain": [
       "\n",
       "Call:\n",
       "lm(formula = spirit ~ 1, data = df)\n",
       "\n",
       "Residuals:\n",
       "    Min      1Q  Median      3Q     Max \n",
       "-16.859  -8.009  -1.859   7.391  26.041 \n",
       "\n",
       "Coefficients:\n",
       "            Estimate Std. Error t value Pr(>|t|)    \n",
       "(Intercept)   19.659      1.895   10.37 1.33e-11 ***\n",
       "---\n",
       "Signif. codes:  0 ‘***’ 0.001 ‘**’ 0.01 ‘*’ 0.05 ‘.’ 0.1 ‘ ’ 1\n",
       "\n",
       "Residual standard error: 10.72 on 31 degrees of freedom\n"
      ]
     },
     "metadata": {},
     "output_type": "display_data"
    }
   ],
   "source": [
    "summary(lm.base)"
   ]
  },
  {
   "cell_type": "markdown",
   "metadata": {},
   "source": [
    "> So the stepwise AIC process will iterate through the remaining **scope** variables, and select the variable to add to the linear model regression that has the smallest AIC value\n",
    "\n",
    "> It will do this for all variables in the scope\n",
    "\n",
    "> The sum of squares is the **REGRESSION SUM OF SQUARES** as a result of adding the variable\n",
    "\n",
    "> The RSS is the **RESIDUAL SUM OF SQUARES** as a result of adding the variable\n",
    "\n",
    "> So your AIC will be based on the RSS and the number of parameters - which will just be a delta of 1 per step (as you're just looking at adding a single variable per step).\n",
    "\n",
    "> Also note that the RSS - $SS_{R}$ is always decreasing."
   ]
  },
  {
   "cell_type": "code",
   "execution_count": 23,
   "metadata": {},
   "outputs": [
    {
     "name": "stdout",
     "output_type": "stream",
     "text": [
      "Start:  AIC=152.81\n",
      "spirit ~ 1\n",
      "\n",
      "           Df Sum of Sq    RSS    AIC\n",
      "+ endpoint  1   1804.38 1759.7 132.23\n",
      "+ pressure  1    525.74 3038.3 149.71\n",
      "+ distil    1    353.70 3210.4 151.47\n",
      "+ gravity   1    216.26 3347.8 152.81\n",
      "<none>                  3564.1 152.81\n",
      "\n",
      "Step:  AIC=132.23\n",
      "spirit ~ endpoint\n",
      "\n",
      "           Df Sum of Sq    RSS     AIC\n",
      "+ distil    1   1589.08  170.6  59.557\n",
      "+ pressure  1   1389.83  369.9  84.317\n",
      "+ gravity   1    897.75  861.9 111.391\n",
      "<none>                  1759.7 132.229\n",
      "- endpoint  1   1804.38 3564.1 152.814\n",
      "\n",
      "Step:  AIC=59.56\n",
      "spirit ~ endpoint + distil\n",
      "\n",
      "           Df Sum of Sq    RSS     AIC\n",
      "+ gravity   1     24.61  146.0  56.572\n",
      "<none>                   170.6  59.557\n",
      "+ pressure  1      9.99  160.6  59.626\n",
      "- distil    1   1589.08 1759.7 132.229\n",
      "- endpoint  1   3039.77 3210.4 151.469\n",
      "\n",
      "Step:  AIC=56.57\n",
      "spirit ~ endpoint + distil + gravity\n",
      "\n",
      "           Df Sum of Sq    RSS     AIC\n",
      "+ pressure  1     11.20  134.8  56.019\n",
      "<none>                   146.0  56.572\n",
      "- gravity   1     24.61  170.6  59.557\n",
      "- distil    1    715.95  861.9 111.391\n",
      "- endpoint  1   3059.74 3205.7 153.423\n",
      "\n",
      "Step:  AIC=56.02\n",
      "spirit ~ endpoint + distil + gravity + pressure\n",
      "\n",
      "           Df Sum of Sq     RSS     AIC\n",
      "<none>                   134.80  56.019\n",
      "- pressure  1     11.20  146.00  56.572\n",
      "- gravity   1     25.82  160.62  59.626\n",
      "- distil    1    130.68  265.48  75.706\n",
      "- endpoint  1   2873.95 3008.76 153.393\n"
     ]
    },
    {
     "data": {
      "text/plain": [
       "\n",
       "Call:\n",
       "lm(formula = spirit ~ endpoint + distil + gravity + pressure, \n",
       "    data = df)\n",
       "\n",
       "Coefficients:\n",
       "(Intercept)     endpoint       distil      gravity     pressure  \n",
       "    -6.8208       0.1547      -0.1495       0.2272       0.5537  \n"
      ]
     },
     "metadata": {},
     "output_type": "display_data"
    }
   ],
   "source": [
    "stepAIC(lm.base, ~ gravity + pressure + distil + endpoint, data=df)"
   ]
  },
  {
   "cell_type": "code",
   "execution_count": null,
   "metadata": {},
   "outputs": [],
   "source": []
  }
 ],
 "metadata": {
  "kernelspec": {
   "display_name": "R",
   "language": "R",
   "name": "ir"
  },
  "language_info": {
   "codemirror_mode": "r",
   "file_extension": ".r",
   "mimetype": "text/x-r-source",
   "name": "R",
   "pygments_lexer": "r",
   "version": "3.6.1"
  }
 },
 "nbformat": 4,
 "nbformat_minor": 2
}
