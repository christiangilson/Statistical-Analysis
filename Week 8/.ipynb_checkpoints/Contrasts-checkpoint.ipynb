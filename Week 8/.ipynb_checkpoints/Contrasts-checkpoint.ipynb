{
 "cells": [
  {
   "cell_type": "markdown",
   "metadata": {},
   "source": [
    "# Constructing orthogonal contrasts of interest\n",
    "\n",
    "## Example from plant physiology\n",
    "\n",
    "> In previous discussion, we've treated each treatment group on an equal footing, and have performed an ANOVA + F-test, and then carried out pairwise comparisons, either doing pairwise t-tests or the more stringent Tukey tests.\n",
    "\n",
    "> In this situation, there are comparisons between specific treatments known *a priori* that are of special  interest.\n",
    "\n",
    "In such situations, we can produce orthogonal contrasts, so that each contrast represents a particular aspect of the differences amongst treatment effects.\n",
    "\n",
    "These orthogonal contrasts should be constructed **BEFORE** examination of the data. If done afterwards, it may bias conclusions.\n",
    "\n",
    "An initial impression of the data can be seen by looking at the ANOVA table, and a table of means."
   ]
  },
  {
   "cell_type": "code",
   "execution_count": 37,
   "metadata": {},
   "outputs": [],
   "source": [
    "length <- c(75, 67, 70, 75, 65, 71, 67, 67, 76, 68,\n",
    "            57, 58, 60, 59, 62, 60, 60, 57, 59, 61,\n",
    "            58, 61, 56, 58, 57, 56, 61, 60, 57, 58,\n",
    "            58, 59, 58, 61, 57, 56, 58, 57, 57, 59,\n",
    "            62, 66, 65, 63, 64, 62, 65, 65, 62, 67)"
   ]
  },
  {
   "cell_type": "code",
   "execution_count": 38,
   "metadata": {},
   "outputs": [],
   "source": [
    "# important to code these as FACTORS!\n",
    "sugar <- factor(rep(1:5, rep(10,5)))"
   ]
  },
  {
   "cell_type": "code",
   "execution_count": 39,
   "metadata": {},
   "outputs": [
    {
     "data": {
      "text/html": [
       "<table>\n",
       "<thead><tr><th></th><th scope=col>length</th><th scope=col>sugar</th></tr></thead>\n",
       "<tbody>\n",
       "\t<tr><th scope=row>1</th><td>75</td><td>1 </td></tr>\n",
       "\t<tr><th scope=row>2</th><td>67</td><td>1 </td></tr>\n",
       "\t<tr><th scope=row>11</th><td>57</td><td>2 </td></tr>\n",
       "\t<tr><th scope=row>12</th><td>58</td><td>2 </td></tr>\n",
       "\t<tr><th scope=row>21</th><td>58</td><td>3 </td></tr>\n",
       "\t<tr><th scope=row>22</th><td>61</td><td>3 </td></tr>\n",
       "\t<tr><th scope=row>31</th><td>58</td><td>4 </td></tr>\n",
       "\t<tr><th scope=row>32</th><td>59</td><td>4 </td></tr>\n",
       "\t<tr><th scope=row>41</th><td>62</td><td>5 </td></tr>\n",
       "\t<tr><th scope=row>42</th><td>66</td><td>5 </td></tr>\n",
       "</tbody>\n",
       "</table>\n"
      ],
      "text/latex": [
       "\\begin{tabular}{r|ll}\n",
       "  & length & sugar\\\\\n",
       "\\hline\n",
       "\t1 & 75 & 1 \\\\\n",
       "\t2 & 67 & 1 \\\\\n",
       "\t11 & 57 & 2 \\\\\n",
       "\t12 & 58 & 2 \\\\\n",
       "\t21 & 58 & 3 \\\\\n",
       "\t22 & 61 & 3 \\\\\n",
       "\t31 & 58 & 4 \\\\\n",
       "\t32 & 59 & 4 \\\\\n",
       "\t41 & 62 & 5 \\\\\n",
       "\t42 & 66 & 5 \\\\\n",
       "\\end{tabular}\n"
      ],
      "text/markdown": [
       "\n",
       "| <!--/--> | length | sugar |\n",
       "|---|---|---|\n",
       "| 1 | 75 | 1  |\n",
       "| 2 | 67 | 1  |\n",
       "| 11 | 57 | 2  |\n",
       "| 12 | 58 | 2  |\n",
       "| 21 | 58 | 3  |\n",
       "| 22 | 61 | 3  |\n",
       "| 31 | 58 | 4  |\n",
       "| 32 | 59 | 4  |\n",
       "| 41 | 62 | 5  |\n",
       "| 42 | 66 | 5  |\n",
       "\n"
      ],
      "text/plain": [
       "   length sugar\n",
       "1  75     1    \n",
       "2  67     1    \n",
       "11 57     2    \n",
       "12 58     2    \n",
       "21 58     3    \n",
       "22 61     3    \n",
       "31 58     4    \n",
       "32 59     4    \n",
       "41 62     5    \n",
       "42 66     5    "
      ]
     },
     "metadata": {},
     "output_type": "display_data"
    }
   ],
   "source": [
    "growth <- data.frame(length, sugar)\n",
    "\n",
    "# a quick top 10, showing two of the ten values per treatment group\n",
    "growth[c(1:2,11:12,21:22,31:32,41:42),]"
   ]
  },
  {
   "cell_type": "markdown",
   "metadata": {},
   "source": [
    "## ANOVA"
   ]
  },
  {
   "cell_type": "code",
   "execution_count": 40,
   "metadata": {},
   "outputs": [
    {
     "data": {
      "text/plain": [
       "            Df Sum Sq Mean Sq F value   Pr(>F)    \n",
       "sugar        4 1077.3  269.33   49.37 6.74e-16 ***\n",
       "Residuals   45  245.5    5.46                     \n",
       "---\n",
       "Signif. codes:  0 ‘***’ 0.001 ‘**’ 0.01 ‘*’ 0.05 ‘.’ 0.1 ‘ ’ 1"
      ]
     },
     "metadata": {},
     "output_type": "display_data"
    }
   ],
   "source": [
    "growth.aov <- aov(length ~ sugar, data=growth)\n",
    "\n",
    "summary(growth.aov)"
   ]
  },
  {
   "cell_type": "markdown",
   "metadata": {},
   "source": [
    "### F-test\n",
    "\n",
    "**Can see from the F-statistic, that there is evidence at the 0.1% significance level to reject the null hypothesis that the treatment means between the five treatment groups are all the same.**\n",
    "\n",
    "> $SS_{Treatments}$ is associated with $a-1=4$ degrees of freedom\n",
    "\n",
    "> $SS_{R}$ is associated with $N-a$ degrees of freedom\n",
    "\n",
    "> Clearly, $a=5$ (5 treatment groups) and $N=50$ (50 observations in total)\n",
    "\n",
    "> $MS_{R} = s^{2} = \\dfrac{SS_{R}}{N-a}$ represents the **pooled estimate of the error variance**\n",
    "\n",
    "> $F_{a-1,N-a} = \\dfrac{MS_{Treatments}}{MS_{R}}$"
   ]
  },
  {
   "cell_type": "code",
   "execution_count": 41,
   "metadata": {},
   "outputs": [
    {
     "data": {
      "text/html": [
       "6.73254485225133e-16"
      ],
      "text/latex": [
       "6.73254485225133e-16"
      ],
      "text/markdown": [
       "6.73254485225133e-16"
      ],
      "text/plain": [
       "[1] 6.732545e-16"
      ]
     },
     "metadata": {},
     "output_type": "display_data"
    }
   ],
   "source": [
    "pf(49.37, 4, 45, lower.tail=FALSE)"
   ]
  },
  {
   "cell_type": "markdown",
   "metadata": {},
   "source": [
    "## Table of Means\n",
    "\n",
    "> Grand mean is the overall sample mean, $\\bar{y}_{..}$\n",
    "\n",
    "> Other means are the sample treatment means (**not effects**), $\\bar{y}_{i.}$"
   ]
  },
  {
   "cell_type": "code",
   "execution_count": 46,
   "metadata": {},
   "outputs": [
    {
     "data": {
      "text/plain": [
       "Tables of means\n",
       "Grand mean\n",
       "      \n",
       "61.94 \n",
       "\n",
       " sugar \n",
       "sugar\n",
       "   1    2    3    4    5 \n",
       "70.1 59.3 58.2 58.0 64.1 "
      ]
     },
     "metadata": {},
     "output_type": "display_data"
    }
   ],
   "source": [
    "model.tables(growth.aov, type = 'means')"
   ]
  },
  {
   "cell_type": "markdown",
   "metadata": {},
   "source": [
    "## **Adding contrasts into the mix!**\n",
    "\n",
    "R has inbuilt functions to deal with contrasts.\n",
    "\n",
    "Recall a contrast, $\\psi$, is defined by a linear combination of the treatment **effects**:\n",
    "\n",
    "> $\\psi = \\sum^{a}_{i=1} c_{i} \\tau_{i}$,\n",
    "\n",
    "where:\n",
    "\n",
    "> $\\sum^{a}_{i=1} c_{i} = 0$.\n",
    "\n",
    "Sets of contrasts are specified by matrices in R. Each column represents the set of linear coefficients of a single contrast (i.e. a vector of length $a$, containing $\\mathbf{c} = \\left [ c_{1} c_{2} ... c_{a} \\right ]^{T}$.\n",
    "\n",
    "There are some built-in functions:\n",
    "\n",
    "* `contr.helmert`\n",
    "* `contr.sum`\n",
    "* `contr.treatment`\n",
    "\n",
    "For `contr.helmert`, if the number of observations is the same for each treatment (i.e. $n_{i} = n, i = 1, 2, ..., a$), then contrasts are mutually orthogonal.\n",
    "\n",
    "The our dataset, we've got $a=5$ treatment groups. We know that we'll get as many orthogonal contrasts as we have treatment degrees of freedom - the number of degrees of freedom associated with $SS_{Treatments}$. This is  $a-1$, therefore we'll get $a-1=4$ orthogonal contrasts, and hence, we'll get a $5 \\times 4$ matrix, 5 rows (the length of the contrast coefficient vectors) and 4 columns (each column representing vector of contrast coefficients).\n",
    "\n",
    "The `contr.helmert` set of contrasts successfully compares **the effect of each treatment Vs the average of the previous ones**.\n",
    "\n",
    "The `contr.sum` set of contrasts compares **the final treatment with each of the others**. These contrasts are not mutually orthogonal.\n",
    "\n",
    "\n",
    "\n",
    "\n"
   ]
  },
  {
   "cell_type": "code",
   "execution_count": 47,
   "metadata": {},
   "outputs": [
    {
     "data": {
      "text/html": [
       "<table>\n",
       "<thead><tr><th scope=col>2</th><th scope=col>3</th><th scope=col>4</th><th scope=col>5</th></tr></thead>\n",
       "<tbody>\n",
       "\t<tr><td>0</td><td>0</td><td>0</td><td>0</td></tr>\n",
       "\t<tr><td>1</td><td>0</td><td>0</td><td>0</td></tr>\n",
       "\t<tr><td>0</td><td>1</td><td>0</td><td>0</td></tr>\n",
       "\t<tr><td>0</td><td>0</td><td>1</td><td>0</td></tr>\n",
       "\t<tr><td>0</td><td>0</td><td>0</td><td>1</td></tr>\n",
       "</tbody>\n",
       "</table>\n"
      ],
      "text/latex": [
       "\\begin{tabular}{r|llll}\n",
       " 2 & 3 & 4 & 5\\\\\n",
       "\\hline\n",
       "\t 0 & 0 & 0 & 0\\\\\n",
       "\t 1 & 0 & 0 & 0\\\\\n",
       "\t 0 & 1 & 0 & 0\\\\\n",
       "\t 0 & 0 & 1 & 0\\\\\n",
       "\t 0 & 0 & 0 & 1\\\\\n",
       "\\end{tabular}\n"
      ],
      "text/markdown": [
       "\n",
       "| 2 | 3 | 4 | 5 |\n",
       "|---|---|---|---|\n",
       "| 0 | 0 | 0 | 0 |\n",
       "| 1 | 0 | 0 | 0 |\n",
       "| 0 | 1 | 0 | 0 |\n",
       "| 0 | 0 | 1 | 0 |\n",
       "| 0 | 0 | 0 | 1 |\n",
       "\n"
      ],
      "text/plain": [
       "  2 3 4 5\n",
       "1 0 0 0 0\n",
       "2 1 0 0 0\n",
       "3 0 1 0 0\n",
       "4 0 0 1 0\n",
       "5 0 0 0 1"
      ]
     },
     "metadata": {},
     "output_type": "display_data"
    }
   ],
   "source": [
    "contr.treatment(5)"
   ]
  },
  {
   "cell_type": "code",
   "execution_count": 48,
   "metadata": {},
   "outputs": [
    {
     "data": {
      "text/html": [
       "<table>\n",
       "<tbody>\n",
       "\t<tr><td> 1</td><td> 0</td><td> 0</td><td> 0</td></tr>\n",
       "\t<tr><td> 0</td><td> 1</td><td> 0</td><td> 0</td></tr>\n",
       "\t<tr><td> 0</td><td> 0</td><td> 1</td><td> 0</td></tr>\n",
       "\t<tr><td> 0</td><td> 0</td><td> 0</td><td> 1</td></tr>\n",
       "\t<tr><td>-1</td><td>-1</td><td>-1</td><td>-1</td></tr>\n",
       "</tbody>\n",
       "</table>\n"
      ],
      "text/latex": [
       "\\begin{tabular}{r|llll}\n",
       "\t  1 &  0 &  0 &  0\\\\\n",
       "\t  0 &  1 &  0 &  0\\\\\n",
       "\t  0 &  0 &  1 &  0\\\\\n",
       "\t  0 &  0 &  0 &  1\\\\\n",
       "\t -1 & -1 & -1 & -1\\\\\n",
       "\\end{tabular}\n"
      ],
      "text/markdown": [
       "\n",
       "|  1 |  0 |  0 |  0 |\n",
       "|  0 |  1 |  0 |  0 |\n",
       "|  0 |  0 |  1 |  0 |\n",
       "|  0 |  0 |  0 |  1 |\n",
       "| -1 | -1 | -1 | -1 |\n",
       "\n"
      ],
      "text/plain": [
       "  [,1] [,2] [,3] [,4]\n",
       "1  1    0    0    0  \n",
       "2  0    1    0    0  \n",
       "3  0    0    1    0  \n",
       "4  0    0    0    1  \n",
       "5 -1   -1   -1   -1  "
      ]
     },
     "metadata": {},
     "output_type": "display_data"
    }
   ],
   "source": [
    "contr.sum(5)"
   ]
  },
  {
   "cell_type": "code",
   "execution_count": 49,
   "metadata": {},
   "outputs": [
    {
     "data": {
      "text/html": [
       "<table>\n",
       "<tbody>\n",
       "\t<tr><td>-1</td><td>-1</td><td>-1</td><td>-1</td></tr>\n",
       "\t<tr><td> 1</td><td>-1</td><td>-1</td><td>-1</td></tr>\n",
       "\t<tr><td> 0</td><td> 2</td><td>-1</td><td>-1</td></tr>\n",
       "\t<tr><td> 0</td><td> 0</td><td> 3</td><td>-1</td></tr>\n",
       "\t<tr><td> 0</td><td> 0</td><td> 0</td><td> 4</td></tr>\n",
       "</tbody>\n",
       "</table>\n"
      ],
      "text/latex": [
       "\\begin{tabular}{r|llll}\n",
       "\t -1 & -1 & -1 & -1\\\\\n",
       "\t  1 & -1 & -1 & -1\\\\\n",
       "\t  0 &  2 & -1 & -1\\\\\n",
       "\t  0 &  0 &  3 & -1\\\\\n",
       "\t  0 &  0 &  0 &  4\\\\\n",
       "\\end{tabular}\n"
      ],
      "text/markdown": [
       "\n",
       "| -1 | -1 | -1 | -1 |\n",
       "|  1 | -1 | -1 | -1 |\n",
       "|  0 |  2 | -1 | -1 |\n",
       "|  0 |  0 |  3 | -1 |\n",
       "|  0 |  0 |  0 |  4 |\n",
       "\n"
      ],
      "text/plain": [
       "  [,1] [,2] [,3] [,4]\n",
       "1 -1   -1   -1   -1  \n",
       "2  1   -1   -1   -1  \n",
       "3  0    2   -1   -1  \n",
       "4  0    0    3   -1  \n",
       "5  0    0    0    4  "
      ]
     },
     "metadata": {},
     "output_type": "display_data"
    }
   ],
   "source": [
    "contr.helmert(5)"
   ]
  },
  {
   "cell_type": "markdown",
   "metadata": {},
   "source": [
    "## Constructing our own set of contrasts.\n",
    "\n",
    "(If we didn't do this, then `contr.treatment` - the default - would be used).\n",
    "\n",
    "We want to contruct 4 vectors: $\\mathbf{c_{1}}, \\mathbf{c_{2}}, \\mathbf{c_{3}}, \\mathbf{c_{4}}$.\n",
    "\n",
    "Each vector will have 5 elements.\n",
    "\n",
    "In our example, we have the same number of observations in each treatment group, so $n_{i} = n, i = 1, 2, ..., a$.\n",
    "\n",
    "This means our orthogonality condition of:\n",
    "\n",
    "> $\\sum^{a}_{i=1}\\dfrac{c_{i}d_{i}}{n_{i}} = 0$ becomes $\\sum^{a}_{i=1}c_{i}d_{i} = 0$.\n",
    "\n",
    "### Contrasts\n",
    "\n",
    "1) The first is a contrast of the control against the sugars.\n",
    "\n",
    "2) The second is a contrast of sucrose against glucose and fructose.\n",
    "\n",
    "3) The third is a simple comparison of glucose and fructose.\n",
    "\n",
    "4) The fourth contrast is a measure of interaction between glucose and fructose.\n",
    "\n",
    "**Remember: $\\sum^{a}_{i=1}c_{i} = 0$  ALL OF YOUR ELEMENTS IN THE COEFFICIENT VECTORS MUST SUM TO 0.**"
   ]
  },
  {
   "cell_type": "code",
   "execution_count": 57,
   "metadata": {},
   "outputs": [],
   "source": [
    "# contrast between control, and the sugars\n",
    "c1 <- c(4,-1,-1,-1,-1)"
   ]
  },
  {
   "cell_type": "code",
   "execution_count": 101,
   "metadata": {},
   "outputs": [],
   "source": [
    "# contrast between sucrose (position 5) against glucse and fructose (positions 2,3,4)\n",
    "c2 <- c(0, -1, -1, -1, 3)"
   ]
  },
  {
   "cell_type": "code",
   "execution_count": 102,
   "metadata": {},
   "outputs": [],
   "source": [
    "# comparison between glucose (position 2) and fructose (position 3)\n",
    "c3 <- c(0, 1, -1, 0, 0)"
   ]
  },
  {
   "cell_type": "code",
   "execution_count": 103,
   "metadata": {},
   "outputs": [],
   "source": [
    "# measure of interaction between glucose and fructose: glucose is position (2), fructose is position (3),\n",
    "# and the glucose/fructose half and half combo is position (4)\n",
    "c4 <- c(0, -1, -1, 2, 0)"
   ]
  },
  {
   "cell_type": "code",
   "execution_count": 113,
   "metadata": {},
   "outputs": [
    {
     "data": {
      "text/html": [
       "<table>\n",
       "<tbody>\n",
       "\t<tr><td> 4</td><td> 0</td><td> 0</td><td> 0</td></tr>\n",
       "\t<tr><td>-1</td><td>-1</td><td> 1</td><td>-1</td></tr>\n",
       "\t<tr><td>-1</td><td>-1</td><td>-1</td><td>-1</td></tr>\n",
       "\t<tr><td>-1</td><td>-1</td><td> 0</td><td> 2</td></tr>\n",
       "\t<tr><td>-1</td><td> 3</td><td> 0</td><td> 0</td></tr>\n",
       "</tbody>\n",
       "</table>\n"
      ],
      "text/latex": [
       "\\begin{tabular}{llll}\n",
       "\t  4 &  0 &  0 &  0\\\\\n",
       "\t -1 & -1 &  1 & -1\\\\\n",
       "\t -1 & -1 & -1 & -1\\\\\n",
       "\t -1 & -1 &  0 &  2\\\\\n",
       "\t -1 &  3 &  0 &  0\\\\\n",
       "\\end{tabular}\n"
      ],
      "text/markdown": [
       "\n",
       "|  4 |  0 |  0 |  0 |\n",
       "| -1 | -1 |  1 | -1 |\n",
       "| -1 | -1 | -1 | -1 |\n",
       "| -1 | -1 |  0 |  2 |\n",
       "| -1 |  3 |  0 |  0 |\n",
       "\n"
      ],
      "text/plain": [
       "     [,1] [,2] [,3] [,4]\n",
       "[1,]  4    0    0    0  \n",
       "[2,] -1   -1    1   -1  \n",
       "[3,] -1   -1   -1   -1  \n",
       "[4,] -1   -1    0    2  \n",
       "[5,] -1    3    0    0  "
      ]
     },
     "metadata": {},
     "output_type": "display_data"
    }
   ],
   "source": [
    "ctr <- matrix(c(c1,c2,c3,c4), nrow=5)\n",
    "#ctr <- contr.helmert(5)\n",
    "\n",
    "ctr"
   ]
  },
  {
   "cell_type": "markdown",
   "metadata": {},
   "source": [
    "We now set the contrasts specified above, \"to be associated with the factor `sugar`\", using the `contrasts()` function, **AND REPEAT THE ANOVA**.\n",
    "\n",
    "> Standard ANOVA results DO NOT CHANGE\n",
    "\n",
    "> Must dig into the  split of the ANOVA where we see what each of our contrasts, each with a degree of freedom, looks like\n",
    "\n",
    "> Means table looks the same"
   ]
  },
  {
   "cell_type": "code",
   "execution_count": 114,
   "metadata": {},
   "outputs": [],
   "source": [
    "contrasts(growth$sugar) <- ctr"
   ]
  },
  {
   "cell_type": "code",
   "execution_count": 115,
   "metadata": {},
   "outputs": [
    {
     "data": {
      "text/plain": [
       "                           Df Sum Sq Mean Sq F value   Pr(>F)    \n",
       "sugar                       4 1077.3   269.3  49.368 6.74e-16 ***\n",
       "  sugar: control v sugars   1  832.3   832.3 152.564 4.68e-16 ***\n",
       "  sugar: sucrose v gl,fr    1  235.2   235.2  43.112 4.50e-08 ***\n",
       "  sugar: gl v fr            1    6.1     6.1   1.109    0.298    \n",
       "  sugar: gl,fr interaction  1    3.7     3.7   0.687    0.411    \n",
       "Residuals                  45  245.5     5.5                     \n",
       "---\n",
       "Signif. codes:  0 ‘***’ 0.001 ‘**’ 0.01 ‘*’ 0.05 ‘.’ 0.1 ‘ ’ 1"
      ]
     },
     "metadata": {},
     "output_type": "display_data"
    }
   ],
   "source": [
    "growth.aov <- aov(length ~ sugar, data=growth)\n",
    "\n",
    "summary(growth.aov, split = list(sugar = list(\"control v sugars\" = 1,\n",
    "                                               \"sucrose v gl,fr\" = 2,\n",
    "                                               \"gl v fr\" = 3,\n",
    "                                               \"gl,fr interaction\" = 4)))\n"
   ]
  },
  {
   "cell_type": "markdown",
   "metadata": {},
   "source": [
    "**This shows strong evidence that the presence of sugars reduces growth, and that glucose and fructose reduce growth more than sucrose.**\n",
    "\n",
    "> CG Note: I think the directionality of reduce / increase growth is inferred from the means table, rather than coming out of the ANOVA summary.\n",
    "\n",
    "**No evidence that there are differences in effects between glucose and fructose, or that there's significant interaction between glucose and fructose**."
   ]
  },
  {
   "cell_type": "code",
   "execution_count": 118,
   "metadata": {},
   "outputs": [
    {
     "data": {
      "text/plain": [
       "Tables of means\n",
       "Grand mean\n",
       "      \n",
       "61.94 \n",
       "\n",
       " sugar \n",
       "sugar\n",
       "   1    2    3    4    5 \n",
       "70.1 59.3 58.2 58.0 64.1 "
      ]
     },
     "metadata": {},
     "output_type": "display_data"
    }
   ],
   "source": [
    "model.tables(growth.aov, type = 'means')"
   ]
  },
  {
   "cell_type": "markdown",
   "metadata": {},
   "source": [
    "## Finally, can see the contrast estimated values: $\\dfrac{\\hat{\\psi}}{\\sum{c_{i}^{2}}}$"
   ]
  },
  {
   "cell_type": "code",
   "execution_count": 119,
   "metadata": {},
   "outputs": [
    {
     "data": {
      "text/html": [
       "<dl class=dl-horizontal>\n",
       "\t<dt>(Intercept)</dt>\n",
       "\t\t<dd>61.94</dd>\n",
       "\t<dt>sugar1</dt>\n",
       "\t\t<dd>2.04</dd>\n",
       "\t<dt>sugar2</dt>\n",
       "\t\t<dd>1.4</dd>\n",
       "\t<dt>sugar3</dt>\n",
       "\t\t<dd>0.55</dd>\n",
       "\t<dt>sugar4</dt>\n",
       "\t\t<dd>-0.25</dd>\n",
       "</dl>\n"
      ],
      "text/latex": [
       "\\begin{description*}\n",
       "\\item[(Intercept)] 61.94\n",
       "\\item[sugar1] 2.04\n",
       "\\item[sugar2] 1.4\n",
       "\\item[sugar3] 0.55\n",
       "\\item[sugar4] -0.25\n",
       "\\end{description*}\n"
      ],
      "text/markdown": [
       "(Intercept)\n",
       ":   61.94sugar1\n",
       ":   2.04sugar2\n",
       ":   1.4sugar3\n",
       ":   0.55sugar4\n",
       ":   -0.25\n",
       "\n"
      ],
      "text/plain": [
       "(Intercept)      sugar1      sugar2      sugar3      sugar4 \n",
       "      61.94        2.04        1.40        0.55       -0.25 "
      ]
     },
     "metadata": {},
     "output_type": "display_data"
    }
   ],
   "source": [
    "coef(growth.aov)"
   ]
  },
  {
   "cell_type": "code",
   "execution_count": null,
   "metadata": {},
   "outputs": [],
   "source": []
  }
 ],
 "metadata": {
  "kernelspec": {
   "display_name": "R",
   "language": "R",
   "name": "ir"
  },
  "language_info": {
   "codemirror_mode": "r",
   "file_extension": ".r",
   "mimetype": "text/x-r-source",
   "name": "R",
   "pygments_lexer": "r",
   "version": "3.6.1"
  }
 },
 "nbformat": 4,
 "nbformat_minor": 2
}
